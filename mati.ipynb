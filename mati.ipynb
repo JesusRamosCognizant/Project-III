{
 "cells": [
  {
   "cell_type": "code",
   "execution_count": 1,
   "metadata": {},
   "outputs": [],
   "source": [
    "import numpy as np\n",
    "import torch\n",
    "import torch.nn as nn\n",
    "import torch.optim as optim\n",
    "from torch.utils.data import DataLoader, Dataset\n",
    "from collections import Counter\n",
    "import re\n",
    "\n",
    "PATH = \"Project-III/data/sherlock-holm.es_stories_plain-text_advs.txt\"\n",
    "\n",
    "# Read the text file\n",
    "with open(PATH, 'r', encoding='utf-8') as file:\n",
    "    text = file.read()"
   ]
  },
  {
   "cell_type": "code",
   "execution_count": 2,
   "metadata": {},
   "outputs": [],
   "source": [
    "# Tokenize the text\n",
    "def tokenize(text):\n",
    "    text = text.lower()\n",
    "    text = re.sub(r'[^a-zA-Z0-9\\s]', '', text)\n",
    "    words = text.split()\n",
    "    return words\n",
    "\n",
    "tokens = tokenize(text)\n",
    "word_counts = Counter(tokens)\n",
    "vocab = sorted(word_counts, key=word_counts.get, reverse=True)\n",
    "word_to_index = {word: index + 1 for index, word in enumerate(vocab)}\n",
    "index_to_word = {index + 1: word for index, word in enumerate(vocab)}\n",
    "total_words = len(word_to_index) + 1"
   ]
  },
  {
   "cell_type": "code",
   "execution_count": 3,
   "metadata": {},
   "outputs": [],
   "source": [
    "# Create input-output pairs\n",
    "input_sequences = []\n",
    "for line in text.split('\\n'):\n",
    "    token_list = [word_to_index[word] for word in tokenize(line) if word in word_to_index]\n",
    "    for i in range(1, len(token_list)):\n",
    "        n_gram_sequence = token_list[:i+1]\n",
    "        input_sequences.append(n_gram_sequence)"
   ]
  },
  {
   "cell_type": "code",
   "execution_count": 4,
   "metadata": {},
   "outputs": [],
   "source": [
    "# Pad the sequences\n",
    "max_sequence_len = max([len(seq) for seq in input_sequences])\n",
    "input_sequences = np.array([np.pad(seq, (max_sequence_len - len(seq), 0), mode='constant') for seq in input_sequences])"
   ]
  },
  {
   "cell_type": "code",
   "execution_count": 5,
   "metadata": {},
   "outputs": [],
   "source": [
    "# Split the sequences into input (X) and output (y)\n",
    "X = input_sequences[:, :-1]\n",
    "y = input_sequences[:, -1]\n",
    "\n",
    "# Convert output to one-hot encoded vectors\n",
    "y = np.array(torch.nn.functional.one_hot(torch.tensor(y), num_classes=total_words))"
   ]
  },
  {
   "cell_type": "code",
   "execution_count": 6,
   "metadata": {},
   "outputs": [],
   "source": [
    "# Create a custom Dataset class\n",
    "class TextDataset(Dataset):\n",
    "    def __init__(self, X, y):\n",
    "        self.X = torch.tensor(X, dtype=torch.long)\n",
    "        self.y = torch.tensor(y, dtype=torch.float)\n",
    "\n",
    "    def __len__(self):\n",
    "        return len(self.X)\n",
    "\n",
    "    def __getitem__(self, idx):\n",
    "        return self.X[idx], self.y[idx]\n",
    "\n",
    "dataset = TextDataset(X, y)\n",
    "dataloader = DataLoader(dataset, batch_size=64, shuffle=True)\n",
    "\n",
    "# Define the model\n",
    "class NextWordPredictor(nn.Module):\n",
    "    def __init__(self, vocab_size, embed_dim, hidden_dim, output_dim):\n",
    "        super(NextWordPredictor, self).__init__()\n",
    "        self.embedding = nn.Embedding(vocab_size, embed_dim)\n",
    "        self.lstm = nn.LSTM(embed_dim, hidden_dim, batch_first=True)\n",
    "        self.fc = nn.Linear(hidden_dim, embed_dim)\n",
    "        self.lstm = nn.LSTM(embed_dim, hidden_dim, batch_first=True)\n",
    "        self.fc = nn.Linear(hidden_dim, output_dim)\n",
    "\n",
    "    def forward(self, x):\n",
    "        x = self.embedding(x)\n",
    "        x, _ = self.lstm(x)\n",
    "        x = x[:, -1, :]\n",
    "        x = self.fc(x)\n",
    "        return x\n",
    "\n",
    "model = NextWordPredictor(total_words, 100, 150, total_words)\n",
    "criterion = nn.CrossEntropyLoss()\n",
    "optimizer = optim.Adam(model.parameters(), lr=0.001)"
   ]
  },
  {
   "cell_type": "code",
   "execution_count": 18,
   "metadata": {},
   "outputs": [
    {
     "name": "stdout",
     "output_type": "stream",
     "text": [
      "Epoch 1/100, Loss: 1.570150375366211 (Improved)\n",
      "Epoch 2/100, Loss: 1.393994927406311 (Improved)\n",
      "Epoch 3/100, Loss: 1.8192484378814697\n",
      "Epoch 4/100, Loss: 1.798419713973999\n",
      "Epoch 5/100, Loss: 1.5008820295333862\n",
      "Epoch 6/100, Loss: 1.1278687715530396 (Improved)\n",
      "Epoch 7/100, Loss: 1.364664912223816\n",
      "Epoch 8/100, Loss: 0.6272120475769043 (Improved)\n",
      "Epoch 9/100, Loss: 1.6558332443237305\n",
      "Epoch 10/100, Loss: 1.473031997680664\n",
      "Epoch 11/100, Loss: 0.7784849405288696\n",
      "Epoch 12/100, Loss: 1.132625699043274\n",
      "Epoch 13/100, Loss: 0.979882538318634\n",
      "Early stopping triggered!\n"
     ]
    }
   ],
   "source": [
    "from torch.optim.lr_scheduler import ReduceLROnPlateau  # Import ReduceLROnPlateau (optional)\n",
    "\n",
    "epochs = 200\n",
    "patience = 10  # Number of epochs to wait for improvement\n",
    "best_loss = float('inf')  # Initialize best loss to a very high value\n",
    "better_model = model\n",
    "for epoch in range(epochs):\n",
    "  # Training loop\n",
    "  for i, (inputs, labels) in enumerate(dataloader):\n",
    "    outputs = model(inputs)\n",
    "    loss = criterion(outputs, labels.argmax(dim=1))\n",
    "\n",
    "    optimizer.zero_grad()\n",
    "    loss.backward()\n",
    "    optimizer.step()\n",
    "\n",
    "  # Early stopping logic - Using training loss (not ideal)\n",
    "  if loss.item() < best_loss:  # Compare current training loss with best loss\n",
    "    best_loss = loss.item()\n",
    "    print(f'Epoch {epoch+1}/{epochs}, Loss: {loss.item()} (Improved)')\n",
    "    better_model = model\n",
    "    patience = 5  # Indicate improvement\n",
    "  else:\n",
    "    print(f'Epoch {epoch+1}/{epochs}, Loss: {loss.item()}')\n",
    "    patience -= 1  # Decrement patience counter on no improvement\n",
    "\n",
    "  # Stop training if patience is exhausted\n",
    "  if patience == 0:\n",
    "    print('Early stopping triggered!')\n",
    "    break\n",
    "\n",
    "# Optional: Save the best model based on training loss (not ideal)\n",
    "if best_loss != float('inf'):\n",
    "  torch.save(model.state_dict(), 'best_model.pt')"
   ]
  },
  {
   "cell_type": "code",
   "execution_count": 19,
   "metadata": {},
   "outputs": [
    {
     "name": "stdout",
     "output_type": "stream",
     "text": [
      "how can this be the position to have gone to\n"
     ]
    }
   ],
   "source": [
    "# Generate predictions\n",
    "def predict_next_words(model, tokenizer, seed_text, next_words):\n",
    "    for _ in range(next_words):\n",
    "        token_list = [word_to_index[word] for word in tokenize(seed_text)]\n",
    "        token_list = np.pad(token_list, (max_sequence_len - len(token_list), 0), mode='constant')\n",
    "        token_list = torch.tensor(token_list[-max_sequence_len+1:], dtype=torch.long).unsqueeze(0)\n",
    "\n",
    "        with torch.no_grad():\n",
    "            predicted = model(token_list).argmax(dim=1).item()\n",
    "\n",
    "        output_word = index_to_word[predicted]\n",
    "        seed_text += \" \" + output_word\n",
    "\n",
    "    return seed_text\n",
    "\n",
    "seed_text = \"how can this be the\"\n",
    "next_words = 5\n",
    "print(predict_next_words(better_model, word_to_index, seed_text, next_words))"
   ]
  },
  {
   "cell_type": "code",
   "execution_count": null,
   "metadata": {},
   "outputs": [],
   "source": []
  }
 ],
 "metadata": {
  "language_info": {
   "name": "python"
  }
 },
 "nbformat": 4,
 "nbformat_minor": 2
}
