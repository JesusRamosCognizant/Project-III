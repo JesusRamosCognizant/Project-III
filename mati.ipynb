{
 "cells": [
  {
   "cell_type": "code",
   "execution_count": 1,
   "metadata": {},
   "outputs": [],
   "source": [
    "import numpy as np\n",
    "import torch\n",
    "import torch.nn as nn\n",
    "import torch.optim as optim\n",
    "from torch.utils.data import DataLoader, Dataset\n",
    "from collections import Counter\n",
    "import re\n",
    "\n",
    "PATH = \"Project-III/data/sherlock-holm.es_stories_plain-text_advs.txt\"\n",
    "\n",
    "# Read the text file\n",
    "with open(PATH, 'r', encoding='utf-8') as file:\n",
    "    text = file.read()"
   ]
  },
  {
   "cell_type": "code",
   "execution_count": 2,
   "metadata": {},
   "outputs": [],
   "source": [
    "# Tokenize the text\n",
    "def tokenize(text):\n",
    "    text = text.lower()\n",
    "    text = re.sub(r'[^a-zA-Z0-9\\s]', '', text)\n",
    "    words = text.split()\n",
    "    return words\n",
    "\n",
    "tokens = tokenize(text)\n",
    "word_counts = Counter(tokens)\n",
    "vocab = sorted(word_counts, key=word_counts.get, reverse=True)\n",
    "word_to_index = {word: index + 1 for index, word in enumerate(vocab)}\n",
    "index_to_word = {index + 1: word for index, word in enumerate(vocab)}\n",
    "total_words = len(word_to_index) + 1"
   ]
  },
  {
   "cell_type": "code",
   "execution_count": 3,
   "metadata": {},
   "outputs": [],
   "source": [
    "# Create input-output pairs\n",
    "input_sequences = []\n",
    "for line in text.split('\\n'):\n",
    "    token_list = [word_to_index[word] for word in tokenize(line) if word in word_to_index]\n",
    "    for i in range(1, len(token_list)):\n",
    "        n_gram_sequence = token_list[:i+1]\n",
    "        input_sequences.append(n_gram_sequence)"
   ]
  },
  {
   "cell_type": "code",
   "execution_count": 4,
   "metadata": {},
   "outputs": [],
   "source": [
    "# Pad the sequences\n",
    "max_sequence_len = max([len(seq) for seq in input_sequences])\n",
    "input_sequences = np.array([np.pad(seq, (max_sequence_len - len(seq), 0), mode='constant') for seq in input_sequences])"
   ]
  },
  {
   "cell_type": "code",
   "execution_count": 5,
   "metadata": {},
   "outputs": [],
   "source": [
    "# Split the sequences into input (X) and output (y)\n",
    "X = input_sequences[:, :-1]\n",
    "y = input_sequences[:, -1]\n",
    "\n",
    "# Convert output to one-hot encoded vectors\n",
    "y = np.array(torch.nn.functional.one_hot(torch.tensor(y), num_classes=total_words))"
   ]
  },
  {
   "cell_type": "code",
   "execution_count": 8,
   "metadata": {},
   "outputs": [],
   "source": [
    "# Create a custom Dataset class\n",
    "class TextDataset(Dataset):\n",
    "    def __init__(self, X, y):\n",
    "        self.X = torch.tensor(X, dtype=torch.long)\n",
    "        self.y = torch.tensor(y, dtype=torch.float)\n",
    "\n",
    "    def __len__(self):\n",
    "        return len(self.X)\n",
    "\n",
    "    def __getitem__(self, idx):\n",
    "        return self.X[idx], self.y[idx]\n",
    "\n",
    "dataset = TextDataset(X, y)\n",
    "dataloader = DataLoader(dataset, batch_size=64, shuffle=True)\n",
    "\n",
    "# Define the model\n",
    "class NextWordPredictor(nn.Module):\n",
    "  def __init__(self, vocab_size, embed_dim, hidden_dim, output_dim, dropout=0.2):\n",
    "    super(NextWordPredictor, self).__init__()\n",
    "    self.embedding = nn.Embedding(vocab_size, embed_dim)\n",
    "    self.dropout_embed = nn.Dropout(dropout)  # Add dropout after embedding\n",
    "    self.lstm = nn.LSTM(embed_dim, hidden_dim, num_layers=2, dropout=dropout, bidirectional=True, batch_first=True)  # Use Bidirectional LSTM with multiple layers\n",
    "    self.fc = nn.Linear(hidden_dim * 2, output_dim)  # Adjust output size for Bidirectional LSTM\n",
    "\n",
    "  def forward(self, sequences):\n",
    "    embedded = self.embedding(sequences)\n",
    "    embedded = self.dropout_embed(embedded)\n",
    "    lstm_out, _ = self.lstm(embedded)\n",
    "    last_hidden = lstm_out[:, -1, :]  # Select last hidden state from the sequence\n",
    "    logits = self.fc(last_hidden)\n",
    "    return logits\n",
    "\n",
    "model = NextWordPredictor(total_words, 100, 150, total_words)\n",
    "criterion = nn.CrossEntropyLoss()\n",
    "optimizer = optim.Adam(model.parameters(), lr=0.001)"
   ]
  },
  {
   "cell_type": "code",
   "execution_count": 9,
   "metadata": {},
   "outputs": [
    {
     "name": "stdout",
     "output_type": "stream",
     "text": [
      "Epoch 1/200, Loss: 5.522288799285889 (Improved)\n",
      "Epoch 2/200, Loss: 5.62422513961792\n",
      "Epoch 3/200, Loss: 5.431838035583496 (Improved)\n",
      "Epoch 4/200, Loss: 4.789584636688232 (Improved)\n",
      "Epoch 5/200, Loss: 5.100135326385498\n",
      "Epoch 6/200, Loss: 4.581338405609131 (Improved)\n",
      "Epoch 7/200, Loss: 4.57741117477417 (Improved)\n",
      "Epoch 8/200, Loss: 4.35866117477417 (Improved)\n",
      "Epoch 9/200, Loss: 4.317609786987305 (Improved)\n",
      "Epoch 10/200, Loss: 3.702009677886963 (Improved)\n",
      "Epoch 11/200, Loss: 3.808645009994507\n",
      "Epoch 12/200, Loss: 3.4491617679595947 (Improved)\n",
      "Epoch 13/200, Loss: 3.859118700027466\n",
      "Epoch 14/200, Loss: 3.340031385421753 (Improved)\n",
      "Epoch 15/200, Loss: 3.4514124393463135\n"
     ]
    },
    {
     "ename": "",
     "evalue": "",
     "output_type": "error",
     "traceback": [
      "\u001b[1;31mThe Kernel crashed while executing code in the current cell or a previous cell. \n",
      "\u001b[1;31mPlease review the code in the cell(s) to identify a possible cause of the failure. \n",
      "\u001b[1;31mClick <a href='https://aka.ms/vscodeJupyterKernelCrash'>here</a> for more info. \n",
      "\u001b[1;31mView Jupyter <a href='command:jupyter.viewOutput'>log</a> for further details."
     ]
    }
   ],
   "source": [
    "from torch.optim.lr_scheduler import ReduceLROnPlateau  # Import ReduceLROnPlateau\n",
    "\n",
    "epochs = 200\n",
    "patience = 5  # Number of epochs to wait for improvement\n",
    "current_patience = patience\n",
    "best_loss = float('inf')  # Initialize best loss to a very high value\n",
    "better_model = model\n",
    "for epoch in range(epochs):\n",
    "  # Training loop\n",
    "  for i, (inputs, labels) in enumerate(dataloader):\n",
    "    outputs = model(inputs)\n",
    "    loss = criterion(outputs, labels.argmax(dim=1))\n",
    "\n",
    "    optimizer.zero_grad()\n",
    "    loss.backward()\n",
    "    optimizer.step()\n",
    "\n",
    "  # Early stopping\n",
    "  if loss.item() < best_loss:  # Compare current training loss with best loss\n",
    "    best_loss = loss.item()\n",
    "    print(f'Epoch {epoch+1}/{epochs}, Loss: {loss.item()} (Improved)')\n",
    "    better_model = model\n",
    "    current_patience = patience  # Restart patience\n",
    "  else:\n",
    "    print(f'Epoch {epoch+1}/{epochs}, Loss: {loss.item()}')\n",
    "    current_patience -= 1  # Decrement patience counter on no improvement\n",
    "\n",
    "  # Stop training if patience is 0\n",
    "  if current_patience == 0:\n",
    "    print('Early stopping triggered!')\n",
    "    break\n",
    "\n",
    "'''\n",
    "# Optional: Save the best model based on training loss\n",
    "if best_loss != float('inf'):\n",
    "  torch.save(model.state_dict(), 'best_model.pt')\n",
    "'''"
   ]
  },
  {
   "cell_type": "code",
   "execution_count": 1,
   "metadata": {},
   "outputs": [
    {
     "ename": "NameError",
     "evalue": "name 'better_model' is not defined",
     "output_type": "error",
     "traceback": [
      "\u001b[0;31m---------------------------------------------------------------------------\u001b[0m",
      "\u001b[0;31mNameError\u001b[0m                                 Traceback (most recent call last)",
      "Cell \u001b[0;32mIn[1], line 18\u001b[0m\n\u001b[1;32m     16\u001b[0m seed_text \u001b[38;5;241m=\u001b[39m \u001b[38;5;124m\"\u001b[39m\u001b[38;5;124mi am\u001b[39m\u001b[38;5;124m\"\u001b[39m\n\u001b[1;32m     17\u001b[0m next_words \u001b[38;5;241m=\u001b[39m \u001b[38;5;241m16\u001b[39m\n\u001b[0;32m---> 18\u001b[0m \u001b[38;5;28mprint\u001b[39m(predict_next_words(\u001b[43mbetter_model\u001b[49m, word_to_index, seed_text, next_words))\n",
      "\u001b[0;31mNameError\u001b[0m: name 'better_model' is not defined"
     ]
    }
   ],
   "source": [
    "# Generate predictions\n",
    "def predict_next_words(model, tokenizer, seed_text, next_words):\n",
    "    for _ in range(next_words):\n",
    "        token_list = [word_to_index[word] for word in tokenize(seed_text)]\n",
    "        token_list = np.pad(token_list, (max_sequence_len - len(token_list), 0), mode='constant')\n",
    "        token_list = torch.tensor(token_list[-max_sequence_len+1:], dtype=torch.long).unsqueeze(0)\n",
    "\n",
    "        with torch.no_grad():\n",
    "            predicted = model(token_list).argmax(dim=1).item()\n",
    "\n",
    "        output_word = index_to_word[predicted]\n",
    "        seed_text += \" \" + output_word\n",
    "\n",
    "    return seed_text\n",
    "\n",
    "seed_text = \"i am\"\n",
    "next_words = 16\n",
    "print(predict_next_words(better_model, word_to_index, seed_text, next_words))"
   ]
  },
  {
   "cell_type": "code",
   "execution_count": null,
   "metadata": {},
   "outputs": [],
   "source": []
  }
 ],
 "metadata": {
  "language_info": {
   "name": "python"
  }
 },
 "nbformat": 4,
 "nbformat_minor": 2
}
