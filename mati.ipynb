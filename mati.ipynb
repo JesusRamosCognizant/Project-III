{
 "cells": [
  {
   "cell_type": "code",
   "execution_count": 1,
   "metadata": {},
   "outputs": [],
   "source": [
    "import numpy as np\n",
    "import torch\n",
    "import torch.nn as nn\n",
    "import torch.optim as optim\n",
    "from torch.utils.data import DataLoader, Dataset\n",
    "from collections import Counter\n",
    "import re\n",
    "\n",
    "PATH = \"Project-III/data/sherlock-holm.es_stories_plain-text_advs.txt\"\n",
    "\n",
    "# Read the text file\n",
    "with open(PATH, 'r', encoding='utf-8') as file:\n",
    "    text = file.read()"
   ]
  },
  {
   "cell_type": "code",
   "execution_count": 2,
   "metadata": {},
   "outputs": [],
   "source": [
    "# Tokenize the text\n",
    "def tokenize(text):\n",
    "    text = text.lower()\n",
    "    text = re.sub(r'[^a-zA-Z0-9\\s]', '', text)\n",
    "    words = text.split()\n",
    "    return words\n",
    "\n",
    "tokens = tokenize(text)\n",
    "word_counts = Counter(tokens)\n",
    "vocab = sorted(word_counts, key=word_counts.get, reverse=True)\n",
    "word_to_index = {word: index + 1 for index, word in enumerate(vocab)}\n",
    "index_to_word = {index + 1: word for index, word in enumerate(vocab)}\n",
    "total_words = len(word_to_index) + 1"
   ]
  },
  {
   "cell_type": "code",
   "execution_count": 3,
   "metadata": {},
   "outputs": [],
   "source": [
    "# Create input-output pairs\n",
    "input_sequences = []\n",
    "for line in text.split('\\n'):\n",
    "    token_list = [word_to_index[word] for word in tokenize(line) if word in word_to_index]\n",
    "    for i in range(1, len(token_list)):\n",
    "        n_gram_sequence = token_list[:i+1]\n",
    "        input_sequences.append(n_gram_sequence)"
   ]
  },
  {
   "cell_type": "code",
   "execution_count": 4,
   "metadata": {},
   "outputs": [],
   "source": [
    "# Pad the sequences\n",
    "max_sequence_len = max([len(seq) for seq in input_sequences])\n",
    "input_sequences = np.array([np.pad(seq, (max_sequence_len - len(seq), 0), mode='constant') for seq in input_sequences])"
   ]
  },
  {
   "cell_type": "code",
   "execution_count": 5,
   "metadata": {},
   "outputs": [],
   "source": [
    "# Split the sequences into input (X) and output (y)\n",
    "X = input_sequences[:, :-1]\n",
    "y = input_sequences[:, -1]\n",
    "\n",
    "# Convert output to one-hot encoded vectors\n",
    "y = np.array(torch.nn.functional.one_hot(torch.tensor(y), num_classes=total_words))"
   ]
  },
  {
   "cell_type": "code",
   "execution_count": 6,
   "metadata": {},
   "outputs": [],
   "source": [
    "# Create a custom Dataset class\n",
    "class TextDataset(Dataset):\n",
    "    def __init__(self, X, y):\n",
    "        self.X = torch.tensor(X, dtype=torch.long)\n",
    "        self.y = torch.tensor(y, dtype=torch.float)\n",
    "\n",
    "    def __len__(self):\n",
    "        return len(self.X)\n",
    "\n",
    "    def __getitem__(self, idx):\n",
    "        return self.X[idx], self.y[idx]\n",
    "\n",
    "dataset = TextDataset(X, y)\n",
    "dataloader = DataLoader(dataset, batch_size=64, shuffle=True)\n",
    "\n",
    "# Define the model\n",
    "class NextWordPredictor(nn.Module):\n",
    "    def __init__(self, vocab_size, embed_dim, hidden_dim, output_dim):\n",
    "        super(NextWordPredictor, self).__init__()\n",
    "        self.embedding = nn.Embedding(vocab_size, embed_dim)\n",
    "        self.lstm = nn.LSTM(embed_dim, hidden_dim, batch_first=True)\n",
    "        self.fc = nn.Linear(hidden_dim, embed_dim)\n",
    "        self.lstm = nn.LSTM(embed_dim, hidden_dim, batch_first=True)\n",
    "        self.fc = nn.Linear(hidden_dim, output_dim)\n",
    "\n",
    "    def forward(self, x):\n",
    "        x = self.embedding(x)\n",
    "        x, _ = self.lstm(x)\n",
    "        x = x[:, -1, :]\n",
    "        x = self.fc(x)\n",
    "        return x\n",
    "\n",
    "model = NextWordPredictor(total_words, 100, 150, total_words)\n",
    "criterion = nn.CrossEntropyLoss()\n",
    "optimizer = optim.Adam(model.parameters(), lr=0.001)"
   ]
  },
  {
   "cell_type": "code",
   "execution_count": 7,
   "metadata": {},
   "outputs": [
    {
     "name": "stdout",
     "output_type": "stream",
     "text": [
      "Epoch 1/200, Loss: 5.231538772583008 (Improved)\n",
      "Epoch 2/200, Loss: 5.407001972198486\n",
      "Epoch 3/200, Loss: 5.6162028312683105\n",
      "Epoch 4/200, Loss: 4.924469947814941 (Improved)\n",
      "Epoch 5/200, Loss: 3.9400370121002197 (Improved)\n",
      "Epoch 6/200, Loss: 4.317702770233154\n",
      "Epoch 7/200, Loss: 4.084334850311279\n",
      "Epoch 8/200, Loss: 3.9123222827911377 (Improved)\n",
      "Epoch 9/200, Loss: 3.8538107872009277 (Improved)\n",
      "Epoch 10/200, Loss: 2.733553886413574 (Improved)\n",
      "Epoch 11/200, Loss: 2.6732144355773926 (Improved)\n",
      "Epoch 12/200, Loss: 2.7443723678588867\n",
      "Epoch 13/200, Loss: 2.642007827758789 (Improved)\n",
      "Epoch 14/200, Loss: 3.1721506118774414\n",
      "Epoch 15/200, Loss: 2.2543506622314453 (Improved)\n",
      "Epoch 16/200, Loss: 2.3420658111572266\n",
      "Epoch 17/200, Loss: 2.1728837490081787 (Improved)\n",
      "Epoch 18/200, Loss: 1.9896016120910645 (Improved)\n",
      "Epoch 19/200, Loss: 1.5710467100143433 (Improved)\n",
      "Epoch 20/200, Loss: 1.4134873151779175 (Improved)\n",
      "Epoch 21/200, Loss: 1.320010781288147 (Improved)\n",
      "Epoch 22/200, Loss: 1.1419868469238281 (Improved)\n",
      "Epoch 23/200, Loss: 1.4625946283340454\n",
      "Epoch 24/200, Loss: 1.2276824712753296\n",
      "Epoch 25/200, Loss: 1.694935917854309\n",
      "Epoch 26/200, Loss: 1.2696633338928223\n",
      "Epoch 27/200, Loss: 1.0707345008850098 (Improved)\n",
      "Epoch 28/200, Loss: 1.2978721857070923\n",
      "Epoch 29/200, Loss: 1.1747984886169434\n",
      "Epoch 30/200, Loss: 1.196468710899353\n",
      "Epoch 31/200, Loss: 1.1779849529266357\n",
      "Epoch 32/200, Loss: 1.1301393508911133\n",
      "Early stopping triggered!\n"
     ]
    },
    {
     "data": {
      "text/plain": [
       "\"\\n# Optional: Save the best model based on training loss\\nif best_loss != float('inf'):\\n  torch.save(model.state_dict(), 'best_model.pt')\\n\""
      ]
     },
     "execution_count": 7,
     "metadata": {},
     "output_type": "execute_result"
    }
   ],
   "source": [
    "from torch.optim.lr_scheduler import ReduceLROnPlateau  # Import ReduceLROnPlateau\n",
    "\n",
    "epochs = 200\n",
    "patience = 10  # Number of epochs to wait for improvement\n",
    "current_patience = patience\n",
    "best_loss = float('inf')  # Initialize best loss to a very high value\n",
    "better_model = model\n",
    "for epoch in range(epochs):\n",
    "  # Training loop\n",
    "  for i, (inputs, labels) in enumerate(dataloader):\n",
    "    outputs = model(inputs)\n",
    "    loss = criterion(outputs, labels.argmax(dim=1))\n",
    "\n",
    "    optimizer.zero_grad()\n",
    "    loss.backward()\n",
    "    optimizer.step()\n",
    "\n",
    "  # Early stopping\n",
    "  if loss.item() < best_loss:  # Compare current training loss with best loss\n",
    "    best_loss = loss.item()\n",
    "    print(f'Epoch {epoch+1}/{epochs}, Loss: {loss.item()} (Improved)')\n",
    "    better_model = model\n",
    "    current_patience = patience  # Restart patience\n",
    "  else:\n",
    "    print(f'Epoch {epoch+1}/{epochs}, Loss: {loss.item()}')\n",
    "    current_patience -= 1  # Decrement patience counter on no improvement\n",
    "\n",
    "  # Stop training if patience is 0\n",
    "  if current_patience == 0:\n",
    "    print('Early stopping triggered!')\n",
    "    break\n",
    "\n",
    "'''\n",
    "# Optional: Save the best model based on training loss\n",
    "if best_loss != float('inf'):\n",
    "  torch.save(model.state_dict(), 'best_model.pt')\n",
    "'''"
   ]
  },
  {
   "cell_type": "code",
   "execution_count": 19,
   "metadata": {},
   "outputs": [
    {
     "name": "stdout",
     "output_type": "stream",
     "text": [
      "as it seems to me to be a most of strong importance i\n"
     ]
    }
   ],
   "source": [
    "# Generate predictions\n",
    "def predict_next_words(model, tokenizer, seed_text, next_words):\n",
    "    for _ in range(next_words):\n",
    "        token_list = [word_to_index[word] for word in tokenize(seed_text)]\n",
    "        token_list = np.pad(token_list, (max_sequence_len - len(token_list), 0), mode='constant')\n",
    "        token_list = torch.tensor(token_list[-max_sequence_len+1:], dtype=torch.long).unsqueeze(0)\n",
    "\n",
    "        with torch.no_grad():\n",
    "            predicted = model(token_list).argmax(dim=1).item()\n",
    "\n",
    "        output_word = index_to_word[predicted]\n",
    "        seed_text += \" \" + output_word\n",
    "\n",
    "    return seed_text\n",
    "\n",
    "seed_text = \"as it seems\"\n",
    "next_words = 10\n",
    "print(predict_next_words(better_model, word_to_index, seed_text, next_words))"
   ]
  },
  {
   "cell_type": "code",
   "execution_count": null,
   "metadata": {},
   "outputs": [],
   "source": []
  }
 ],
 "metadata": {
  "language_info": {
   "name": "python"
  }
 },
 "nbformat": 4,
 "nbformat_minor": 2
}
