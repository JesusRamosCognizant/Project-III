{
 "cells": [
  {
   "cell_type": "code",
   "execution_count": 2,
   "metadata": {},
   "outputs": [],
   "source": [
    "import numpy as np\n",
    "import torch\n",
    "import torch.nn as nn\n",
    "import torch.optim as optim\n",
    "from torch.utils.data import DataLoader, Dataset, random_split\n",
    "from sklearn.metrics import confusion_matrix, classification_report\n",
    "from collections import Counter\n",
    "import re\n",
    "import time\n",
    "import nltk\n",
    "from nltk.tokenize import word_tokenize\n",
    "from nltk import pos_tag\n",
    "\n",
    "PATH = \"Project-III/data/sherlock-holm.es_stories_plain-text_advs.txt\"\n",
    "\n",
    "# Read the text file\n",
    "with open(PATH, 'r', encoding='utf-8') as file:\n",
    "    text = file.read()"
   ]
  },
  {
   "cell_type": "code",
   "execution_count": 3,
   "metadata": {},
   "outputs": [
    {
     "name": "stderr",
     "output_type": "stream",
     "text": [
      "[nltk_data] Downloading package punkt to\n",
      "[nltk_data]     /teamspace/studios/this_studio/nltk_data...\n",
      "[nltk_data]   Package punkt is already up-to-date!\n",
      "[nltk_data] Downloading package averaged_perceptron_tagger to\n",
      "[nltk_data]     /teamspace/studios/this_studio/nltk_data...\n",
      "[nltk_data]   Unzipping taggers/averaged_perceptron_tagger.zip.\n"
     ]
    },
    {
     "data": {
      "text/plain": [
       "True"
      ]
     },
     "execution_count": 3,
     "metadata": {},
     "output_type": "execute_result"
    }
   ],
   "source": [
    "# Download NLTK resources\n",
    "nltk.download('punkt')\n",
    "nltk.download('averaged_perceptron_tagger')"
   ]
  },
  {
   "cell_type": "code",
   "execution_count": 6,
   "metadata": {},
   "outputs": [],
   "source": [
    "# Tokenize and generate POS tags\n",
    "def tokenize_and_tag(text):\n",
    "    words = word_tokenize(text)\n",
    "    words = [word.lower() for word in words if word.isalpha()]\n",
    "    return pos_tag(words)\n",
    "\n",
    "tokens_and_tags = tokenize_and_tag(text)\n",
    "\n",
    "# Create word-to-index and index-to-word mappings\n",
    "tokens = [word for word, _ in tokens_and_tags]\n",
    "word_counts = Counter(tokens)\n",
    "vocab = sorted(word_counts, key=word_counts.get, reverse=True)\n",
    "word_to_index = {word: index + 1 for index, word in enumerate(vocab)}\n",
    "index_to_word = {index + 1: word for index, word in enumerate(vocab)}\n",
    "total_words = len(word_to_index) + 1\n",
    "\n",
    "# Generate a unique set of POS tags\n",
    "pos_tags = set(tag for _, tag in tokens_and_tags)\n",
    "\n",
    "# Add an unknown tag for any tags not in the training set\n",
    "pos_to_index = {tag: i + 1 for i, tag in enumerate(pos_tags)}\n",
    "pos_to_index[\"UNK\"] = len(pos_to_index) + 1\n",
    "index_to_pos = {i + 1: tag for i, tag in enumerate(pos_tags)}\n",
    "index_to_pos[len(index_to_pos) + 1] = \"UNK\"\n",
    "total_pos_tags = len(pos_to_index) + 1"
   ]
  },
  {
   "cell_type": "code",
   "execution_count": 7,
   "metadata": {},
   "outputs": [],
   "source": [
    "# Create input-output pairs with POS tags\n",
    "input_sequences = []\n",
    "for line in text.split('\\n'):\n",
    "    token_list = [(word_to_index[word], pos_to_index.get(tag, pos_to_index[\"UNK\"])) for word, tag in tokenize_and_tag(line) if word in word_to_index]\n",
    "    for i in range(1, len(token_list)):\n",
    "        n_gram_sequence = token_list[:i+1]\n",
    "        input_sequences.append(n_gram_sequence)"
   ]
  },
  {
   "cell_type": "code",
   "execution_count": 9,
   "metadata": {},
   "outputs": [],
   "source": [
    "# Pad the sequences\n",
    "max_sequence_len = max([len(seq) for seq in input_sequences])\n",
    "\n",
    "def pad_sequence(seq, max_len, pad_value=(0, 0)):\n",
    "    padded_seq = [pad_value] * (max_len - len(seq)) + seq\n",
    "    return padded_seq\n",
    "\n",
    "padded_sequences = [pad_sequence(seq, max_sequence_len) for seq in input_sequences]\n",
    "padded_sequences = np.array(padded_sequences)"
   ]
  },
  {
   "cell_type": "code",
   "execution_count": 10,
   "metadata": {},
   "outputs": [],
   "source": [
    "# Split the sequences into input (X_word, X_pos) and output (y_word)\n",
    "X_word = padded_sequences[:, :-1, 0]\n",
    "X_pos = padded_sequences[:, :-1, 1]\n",
    "y_word = padded_sequences[:, -1, 0]\n",
    "\n",
    "# Convert output to one-hot encoded vectors for words\n",
    "y_word = np.array(torch.nn.functional.one_hot(torch.tensor(y_word), num_classes=total_words))"
   ]
  },
  {
   "cell_type": "code",
   "execution_count": 11,
   "metadata": {},
   "outputs": [],
   "source": [
    "# Create a custom Dataset class\n",
    "class TextDataset(Dataset):\n",
    "    def __init__(self, X_word, X_pos, y_word):\n",
    "        self.X_word = torch.tensor(X_word, dtype=torch.long)\n",
    "        self.X_pos = torch.tensor(X_pos, dtype=torch.long)\n",
    "        self.y_word = torch.tensor(y_word, dtype=torch.float)\n",
    "\n",
    "    def __len__(self):\n",
    "        return len(self.X_word)\n",
    "\n",
    "    def __getitem__(self, idx):\n",
    "        return self.X_word[idx], self.X_pos[idx], self.y_word[idx]\n",
    "\n",
    "dataset = TextDataset(X_word, X_pos, y_word)\n",
    "\n",
    "# Split dataset into training and validation sets (90% training, 10% validation)\n",
    "train_size = int(0.9 * len(dataset))\n",
    "val_size = len(dataset) - train_size\n",
    "train_dataset, val_dataset = random_split(dataset, [train_size, val_size])\n",
    "\n",
    "train_dataloader = DataLoader(train_dataset, batch_size=64, shuffle=True)\n",
    "val_dataloader = DataLoader(val_dataset, batch_size=64, shuffle=False)\n",
    "\n",
    "# Define the model\n",
    "class NextWordPredictor(nn.Module):\n",
    "    def __init__(self, vocab_size, pos_size, embed_dim, pos_embed_dim, hidden_dim, output_dim):\n",
    "        super(NextWordPredictor, self).__init__()\n",
    "        self.word_embedding = nn.Embedding(vocab_size, embed_dim)\n",
    "        self.pos_embedding = nn.Embedding(pos_size, pos_embed_dim)\n",
    "        self.lstm = nn.LSTM(embed_dim + pos_embed_dim, hidden_dim, batch_first=True)\n",
    "        self.fc = nn.Linear(hidden_dim, output_dim)\n",
    "        self.softmax = nn.Softmax(dim=1)\n",
    "\n",
    "    def forward(self, x_word, x_pos):\n",
    "        x_word = self.word_embedding(x_word)\n",
    "        x_pos = self.pos_embedding(x_pos)\n",
    "        x = torch.cat((x_word, x_pos), dim=2)\n",
    "        x, _ = self.lstm(x)\n",
    "        x = x[:, -1, :]\n",
    "        x = self.fc(x)\n",
    "        x = self.softmax(x)\n",
    "        return x\n",
    "\n",
    "# Initialize the model\n",
    "model = NextWordPredictor(total_words, total_pos_tags, 100, 50, 150, total_words)\n",
    "criterion = nn.CrossEntropyLoss()\n",
    "optimizer = optim.Adam(model.parameters(), lr=0.001)"
   ]
  },
  {
   "cell_type": "code",
   "execution_count": 14,
   "metadata": {},
   "outputs": [
    {
     "name": "stdout",
     "output_type": "stream",
     "text": [
      "Epoch 1/10, Loss: 8.900763511657715\n",
      "Epoch 2/10, Loss: 8.938491821289062\n",
      "Epoch 3/10, Loss: 8.919625282287598\n",
      "Epoch 4/10, Loss: 8.825284004211426\n",
      "Epoch 5/10, Loss: 8.900755882263184\n",
      "Epoch 6/10, Loss: 8.881887435913086\n",
      "Epoch 7/10, Loss: 8.863019943237305\n",
      "Epoch 8/10, Loss: 8.825284004211426\n",
      "Epoch 9/10, Loss: 8.919623374938965\n",
      "Epoch 10/10, Loss: 8.919623374938965\n"
     ]
    }
   ],
   "source": [
    "# Train the model\n",
    "epochs = 10\n",
    "for epoch in range(epochs):\n",
    "    model.train()\n",
    "    for inputs_word, inputs_pos, labels in train_dataloader:\n",
    "        outputs = model(inputs_word, inputs_pos)\n",
    "        loss = criterion(outputs, labels.argmax(dim=1))\n",
    "\n",
    "        optimizer.zero_grad()\n",
    "        loss.backward()\n",
    "        optimizer.step()\n",
    "\n",
    "    print(f'Epoch {epoch+1}/{epochs}, Loss: {loss.item()}')"
   ]
  },
  {
   "cell_type": "code",
   "execution_count": 15,
   "metadata": {},
   "outputs": [
    {
     "name": "stdout",
     "output_type": "stream",
     "text": [
      "Validation Accuracy: 0.0591\n",
      "Loss: 8.879347436262325 PP: 7182.10498046875\n"
     ]
    }
   ],
   "source": [
    "# Evaluate the model on the validation set\n",
    "model.eval()\n",
    "correct_predictions = 0\n",
    "total_predictions = 0\n",
    "total_loss = 0.0\n",
    "\n",
    "with torch.no_grad():\n",
    "    for inputs_word, inputs_pos, labels in val_dataloader:\n",
    "        outputs = model(inputs_word, inputs_pos)\n",
    "        predicted = outputs.argmax(dim=1)\n",
    "        actual = labels.argmax(dim=1)\n",
    "        correct_predictions += (predicted == actual).sum().item()\n",
    "        total_predictions += labels.size(0)\n",
    "\n",
    "        loss = criterion(outputs, actual)\n",
    "        total_loss += loss.item() * labels.size(0)\n",
    "\n",
    "accuracy = correct_predictions / total_predictions\n",
    "average_loss = total_loss / total_predictions\n",
    "perplexity = torch.exp(torch.tensor(average_loss))\n",
    "\n",
    "print(f'Validation Accuracy: {accuracy:.4f}')\n",
    "print('Loss:', average_loss, 'PP:', perplexity.item())\n"
   ]
  },
  {
   "cell_type": "code",
   "execution_count": 16,
   "metadata": {},
   "outputs": [
    {
     "name": "stdout",
     "output_type": "stream",
     "text": [
      "i do not know if i have been a the\n"
     ]
    }
   ],
   "source": [
    "# Generate predictions with the model\n",
    "def predict_next_words(model, seed_text, next_words):\n",
    "    for _ in range(next_words):\n",
    "        token_list = tokenize_and_tag(seed_text)\n",
    "        token_list = [(word_to_index[word], pos_to_index[tag]) for word, tag in token_list if word in word_to_index]\n",
    "        token_list = np.pad(token_list, ((max_sequence_len - len(token_list), 0), (0, 0)), mode='constant')\n",
    "        token_list = torch.tensor(token_list[-max_sequence_len+1:], dtype=torch.long)\n",
    "        X_word = token_list[:, 0].unsqueeze(0)\n",
    "        X_pos = token_list[:, 1].unsqueeze(0)\n",
    "\n",
    "        with torch.no_grad():\n",
    "            predicted = model(X_word, X_pos).argmax(dim=1).item()\n",
    "\n",
    "        output_word = index_to_word[predicted]\n",
    "        seed_text += \" \" + output_word\n",
    "\n",
    "    return seed_text\n",
    "\n",
    "seed_text = \"i do not know if i have been a\"\n",
    "next_words = 1\n",
    "print(predict_next_words(model, seed_text, next_words))"
   ]
  }
 ],
 "metadata": {
  "language_info": {
   "name": "python"
  }
 },
 "nbformat": 4,
 "nbformat_minor": 2
}
