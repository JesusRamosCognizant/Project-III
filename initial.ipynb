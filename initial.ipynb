{
 "cells": [
  {
   "cell_type": "code",
   "execution_count": 1,
   "metadata": {},
   "outputs": [
    {
     "name": "stdout",
     "output_type": "stream",
     "text": [
      "Requirement already satisfied: tensorflow==2.10 in /system/conda/miniconda3/envs/cloudspace/lib/python3.10/site-packages (2.10.0)\n",
      "Requirement already satisfied: absl-py>=1.0.0 in /system/conda/miniconda3/envs/cloudspace/lib/python3.10/site-packages (from tensorflow==2.10) (2.1.0)\n",
      "Requirement already satisfied: astunparse>=1.6.0 in /system/conda/miniconda3/envs/cloudspace/lib/python3.10/site-packages (from tensorflow==2.10) (1.6.3)\n",
      "Requirement already satisfied: flatbuffers>=2.0 in /system/conda/miniconda3/envs/cloudspace/lib/python3.10/site-packages (from tensorflow==2.10) (24.3.25)\n",
      "Requirement already satisfied: gast<=0.4.0,>=0.2.1 in /system/conda/miniconda3/envs/cloudspace/lib/python3.10/site-packages (from tensorflow==2.10) (0.4.0)\n",
      "Requirement already satisfied: google-pasta>=0.1.1 in /system/conda/miniconda3/envs/cloudspace/lib/python3.10/site-packages (from tensorflow==2.10) (0.2.0)\n",
      "Requirement already satisfied: grpcio<2.0,>=1.24.3 in /system/conda/miniconda3/envs/cloudspace/lib/python3.10/site-packages (from tensorflow==2.10) (1.64.1)\n",
      "Requirement already satisfied: h5py>=2.9.0 in /system/conda/miniconda3/envs/cloudspace/lib/python3.10/site-packages (from tensorflow==2.10) (3.11.0)\n",
      "Requirement already satisfied: keras<2.11,>=2.10.0 in /system/conda/miniconda3/envs/cloudspace/lib/python3.10/site-packages (from tensorflow==2.10) (2.10.0)\n",
      "Requirement already satisfied: keras-preprocessing>=1.1.1 in /system/conda/miniconda3/envs/cloudspace/lib/python3.10/site-packages (from tensorflow==2.10) (1.1.2)\n",
      "Requirement already satisfied: libclang>=13.0.0 in /system/conda/miniconda3/envs/cloudspace/lib/python3.10/site-packages (from tensorflow==2.10) (18.1.1)\n",
      "Requirement already satisfied: numpy>=1.20 in /system/conda/miniconda3/envs/cloudspace/lib/python3.10/site-packages (from tensorflow==2.10) (1.26.2)\n",
      "Requirement already satisfied: opt-einsum>=2.3.2 in /system/conda/miniconda3/envs/cloudspace/lib/python3.10/site-packages (from tensorflow==2.10) (3.3.0)\n",
      "Requirement already satisfied: packaging in /system/conda/miniconda3/envs/cloudspace/lib/python3.10/site-packages (from tensorflow==2.10) (24.1)\n",
      "Requirement already satisfied: protobuf<3.20,>=3.9.2 in /system/conda/miniconda3/envs/cloudspace/lib/python3.10/site-packages (from tensorflow==2.10) (3.19.6)\n",
      "Requirement already satisfied: setuptools in /system/conda/miniconda3/envs/cloudspace/lib/python3.10/site-packages (from tensorflow==2.10) (69.5.1)\n",
      "Requirement already satisfied: six>=1.12.0 in /system/conda/miniconda3/envs/cloudspace/lib/python3.10/site-packages (from tensorflow==2.10) (1.16.0)\n",
      "Requirement already satisfied: tensorboard<2.11,>=2.10 in /system/conda/miniconda3/envs/cloudspace/lib/python3.10/site-packages (from tensorflow==2.10) (2.10.1)\n",
      "Requirement already satisfied: tensorflow-io-gcs-filesystem>=0.23.1 in /system/conda/miniconda3/envs/cloudspace/lib/python3.10/site-packages (from tensorflow==2.10) (0.37.0)\n",
      "Requirement already satisfied: tensorflow-estimator<2.11,>=2.10.0 in /system/conda/miniconda3/envs/cloudspace/lib/python3.10/site-packages (from tensorflow==2.10) (2.10.0)\n",
      "Requirement already satisfied: termcolor>=1.1.0 in /system/conda/miniconda3/envs/cloudspace/lib/python3.10/site-packages (from tensorflow==2.10) (2.4.0)\n",
      "Requirement already satisfied: typing-extensions>=3.6.6 in /system/conda/miniconda3/envs/cloudspace/lib/python3.10/site-packages (from tensorflow==2.10) (4.12.2)\n",
      "Requirement already satisfied: wrapt>=1.11.0 in /system/conda/miniconda3/envs/cloudspace/lib/python3.10/site-packages (from tensorflow==2.10) (1.16.0)\n",
      "Requirement already satisfied: wheel<1.0,>=0.23.0 in /system/conda/miniconda3/envs/cloudspace/lib/python3.10/site-packages (from astunparse>=1.6.0->tensorflow==2.10) (0.43.0)\n",
      "Requirement already satisfied: google-auth<3,>=1.6.3 in /system/conda/miniconda3/envs/cloudspace/lib/python3.10/site-packages (from tensorboard<2.11,>=2.10->tensorflow==2.10) (2.30.0)\n",
      "Requirement already satisfied: google-auth-oauthlib<0.5,>=0.4.1 in /system/conda/miniconda3/envs/cloudspace/lib/python3.10/site-packages (from tensorboard<2.11,>=2.10->tensorflow==2.10) (0.4.6)\n",
      "Requirement already satisfied: markdown>=2.6.8 in /system/conda/miniconda3/envs/cloudspace/lib/python3.10/site-packages (from tensorboard<2.11,>=2.10->tensorflow==2.10) (3.6)\n",
      "Requirement already satisfied: requests<3,>=2.21.0 in /system/conda/miniconda3/envs/cloudspace/lib/python3.10/site-packages (from tensorboard<2.11,>=2.10->tensorflow==2.10) (2.32.3)\n",
      "Requirement already satisfied: tensorboard-data-server<0.7.0,>=0.6.0 in /system/conda/miniconda3/envs/cloudspace/lib/python3.10/site-packages (from tensorboard<2.11,>=2.10->tensorflow==2.10) (0.6.1)\n",
      "Requirement already satisfied: tensorboard-plugin-wit>=1.6.0 in /system/conda/miniconda3/envs/cloudspace/lib/python3.10/site-packages (from tensorboard<2.11,>=2.10->tensorflow==2.10) (1.8.1)\n",
      "Requirement already satisfied: werkzeug>=1.0.1 in /system/conda/miniconda3/envs/cloudspace/lib/python3.10/site-packages (from tensorboard<2.11,>=2.10->tensorflow==2.10) (3.0.3)\n",
      "Requirement already satisfied: cachetools<6.0,>=2.0.0 in /system/conda/miniconda3/envs/cloudspace/lib/python3.10/site-packages (from google-auth<3,>=1.6.3->tensorboard<2.11,>=2.10->tensorflow==2.10) (5.3.3)\n",
      "Requirement already satisfied: pyasn1-modules>=0.2.1 in /system/conda/miniconda3/envs/cloudspace/lib/python3.10/site-packages (from google-auth<3,>=1.6.3->tensorboard<2.11,>=2.10->tensorflow==2.10) (0.4.0)\n",
      "Requirement already satisfied: rsa<5,>=3.1.4 in /system/conda/miniconda3/envs/cloudspace/lib/python3.10/site-packages (from google-auth<3,>=1.6.3->tensorboard<2.11,>=2.10->tensorflow==2.10) (4.9)\n",
      "Requirement already satisfied: requests-oauthlib>=0.7.0 in /system/conda/miniconda3/envs/cloudspace/lib/python3.10/site-packages (from google-auth-oauthlib<0.5,>=0.4.1->tensorboard<2.11,>=2.10->tensorflow==2.10) (2.0.0)\n",
      "Requirement already satisfied: charset-normalizer<4,>=2 in /system/conda/miniconda3/envs/cloudspace/lib/python3.10/site-packages (from requests<3,>=2.21.0->tensorboard<2.11,>=2.10->tensorflow==2.10) (3.3.2)\n",
      "Requirement already satisfied: idna<4,>=2.5 in /system/conda/miniconda3/envs/cloudspace/lib/python3.10/site-packages (from requests<3,>=2.21.0->tensorboard<2.11,>=2.10->tensorflow==2.10) (3.7)\n",
      "Requirement already satisfied: urllib3<3,>=1.21.1 in /system/conda/miniconda3/envs/cloudspace/lib/python3.10/site-packages (from requests<3,>=2.21.0->tensorboard<2.11,>=2.10->tensorflow==2.10) (2.2.1)\n",
      "Requirement already satisfied: certifi>=2017.4.17 in /system/conda/miniconda3/envs/cloudspace/lib/python3.10/site-packages (from requests<3,>=2.21.0->tensorboard<2.11,>=2.10->tensorflow==2.10) (2024.6.2)\n",
      "Requirement already satisfied: MarkupSafe>=2.1.1 in /system/conda/miniconda3/envs/cloudspace/lib/python3.10/site-packages (from werkzeug>=1.0.1->tensorboard<2.11,>=2.10->tensorflow==2.10) (2.1.5)\n",
      "Requirement already satisfied: pyasn1<0.7.0,>=0.4.6 in /system/conda/miniconda3/envs/cloudspace/lib/python3.10/site-packages (from pyasn1-modules>=0.2.1->google-auth<3,>=1.6.3->tensorboard<2.11,>=2.10->tensorflow==2.10) (0.6.0)\n",
      "Requirement already satisfied: oauthlib>=3.0.0 in /system/conda/miniconda3/envs/cloudspace/lib/python3.10/site-packages (from requests-oauthlib>=0.7.0->google-auth-oauthlib<0.5,>=0.4.1->tensorboard<2.11,>=2.10->tensorflow==2.10) (3.2.2)\n",
      "Note: you may need to restart the kernel to use updated packages.\n"
     ]
    }
   ],
   "source": [
    "pip install tensorflow==2.10"
   ]
  },
  {
   "cell_type": "code",
   "execution_count": 2,
   "metadata": {},
   "outputs": [
    {
     "name": "stderr",
     "output_type": "stream",
     "text": [
      "2024-06-24 10:31:37.707920: I tensorflow/core/platform/cpu_feature_guard.cc:193] This TensorFlow binary is optimized with oneAPI Deep Neural Network Library (oneDNN) to use the following CPU instructions in performance-critical operations:  AVX2 AVX512F FMA\n",
      "To enable them in other operations, rebuild TensorFlow with the appropriate compiler flags.\n",
      "2024-06-24 10:31:38.163474: W tensorflow/stream_executor/platform/default/dso_loader.cc:64] Could not load dynamic library 'libcudart.so.11.0'; dlerror: libcudart.so.11.0: cannot open shared object file: No such file or directory\n",
      "2024-06-24 10:31:38.163654: I tensorflow/stream_executor/cuda/cudart_stub.cc:29] Ignore above cudart dlerror if you do not have a GPU set up on your machine.\n",
      "2024-06-24 10:31:38.227355: E tensorflow/stream_executor/cuda/cuda_blas.cc:2981] Unable to register cuBLAS factory: Attempting to register factory for plugin cuBLAS when one has already been registered\n",
      "2024-06-24 10:31:39.307603: W tensorflow/stream_executor/platform/default/dso_loader.cc:64] Could not load dynamic library 'libnvinfer.so.7'; dlerror: libnvinfer.so.7: cannot open shared object file: No such file or directory\n",
      "2024-06-24 10:31:39.307935: W tensorflow/stream_executor/platform/default/dso_loader.cc:64] Could not load dynamic library 'libnvinfer_plugin.so.7'; dlerror: libnvinfer_plugin.so.7: cannot open shared object file: No such file or directory\n",
      "2024-06-24 10:31:39.307950: W tensorflow/compiler/tf2tensorrt/utils/py_utils.cc:38] TF-TRT Warning: Cannot dlopen some TensorRT libraries. If you would like to use Nvidia GPU with TensorRT, please make sure the missing libraries mentioned above are installed properly.\n"
     ]
    }
   ],
   "source": [
    "import numpy as np\n",
    "import tensorflow as tf\n",
    "from tensorflow.keras.preprocessing.text import Tokenizer\n",
    "from tensorflow.keras.preprocessing.sequence import pad_sequences\n",
    "from tensorflow.keras.models import Sequential\n",
    "from tensorflow.keras.layers import Embedding, LSTM, Dense\n",
    "\n",
    "# Read the text file\n",
    "with open('Project-III/data/data/sherlock-holm.es_stories_plain-text_advs.txt', 'r', encoding='utf-8') as file:\n",
    "    text = file.read()"
   ]
  },
  {
   "cell_type": "markdown",
   "metadata": {},
   "source": [
    "Tokenize"
   ]
  },
  {
   "cell_type": "code",
   "execution_count": 3,
   "metadata": {},
   "outputs": [],
   "source": [
    "tokenizer = Tokenizer()\n",
    "tokenizer.fit_on_texts([text])\n",
    "total_words = len(tokenizer.word_index) + 1"
   ]
  },
  {
   "cell_type": "code",
   "execution_count": 4,
   "metadata": {},
   "outputs": [],
   "source": [
    "input_sequences = []\n",
    "for line in text.split('\\n'):\n",
    "    token_list = tokenizer.texts_to_sequences([line])[0]\n",
    "    for i in range(1, len(token_list)):\n",
    "        n_gram_sequence = token_list[:i+1]\n",
    "        input_sequences.append(n_gram_sequence)"
   ]
  },
  {
   "cell_type": "markdown",
   "metadata": {},
   "source": [
    "Padding"
   ]
  },
  {
   "cell_type": "code",
   "execution_count": 5,
   "metadata": {},
   "outputs": [],
   "source": [
    "max_sequence_len = max([len(seq) for seq in input_sequences])\n",
    "input_sequences = np.array(pad_sequences(input_sequences, maxlen=max_sequence_len, padding='pre'))"
   ]
  },
  {
   "cell_type": "code",
   "execution_count": 6,
   "metadata": {},
   "outputs": [],
   "source": [
    "X = input_sequences[:, :-1]\n",
    "y = input_sequences[:, -1]"
   ]
  },
  {
   "cell_type": "code",
   "execution_count": 7,
   "metadata": {},
   "outputs": [
    {
     "name": "stdout",
     "output_type": "stream",
     "text": [
      "8200\n"
     ]
    }
   ],
   "source": [
    "y = np.array(tf.keras.utils.to_categorical(y, num_classes=total_words))\n",
    "print(total_words)"
   ]
  },
  {
   "cell_type": "markdown",
   "metadata": {},
   "source": [
    "Neural Network"
   ]
  },
  {
   "cell_type": "code",
   "execution_count": 8,
   "metadata": {},
   "outputs": [
    {
     "name": "stderr",
     "output_type": "stream",
     "text": [
      "2024-06-24 10:31:44.461518: W tensorflow/stream_executor/platform/default/dso_loader.cc:64] Could not load dynamic library 'libcuda.so.1'; dlerror: libcuda.so.1: cannot open shared object file: No such file or directory\n",
      "2024-06-24 10:31:44.462033: W tensorflow/stream_executor/cuda/cuda_driver.cc:263] failed call to cuInit: UNKNOWN ERROR (303)\n",
      "2024-06-24 10:31:44.462077: I tensorflow/stream_executor/cuda/cuda_diagnostics.cc:156] kernel driver does not appear to be running on this host (ip-10-192-12-22): /proc/driver/nvidia/version does not exist\n",
      "2024-06-24 10:31:44.464019: I tensorflow/core/platform/cpu_feature_guard.cc:193] This TensorFlow binary is optimized with oneAPI Deep Neural Network Library (oneDNN) to use the following CPU instructions in performance-critical operations:  AVX2 AVX512F FMA\n",
      "To enable them in other operations, rebuild TensorFlow with the appropriate compiler flags.\n"
     ]
    },
    {
     "name": "stdout",
     "output_type": "stream",
     "text": [
      "Model: \"sequential\"\n",
      "_________________________________________________________________\n",
      " Layer (type)                Output Shape              Param #   \n",
      "=================================================================\n",
      " embedding (Embedding)       (None, 17, 100)           820000    \n",
      "                                                                 \n",
      " lstm (LSTM)                 (None, 150)               150600    \n",
      "                                                                 \n",
      " dense (Dense)               (None, 8200)              1238200   \n",
      "                                                                 \n",
      "=================================================================\n",
      "Total params: 2,208,800\n",
      "Trainable params: 2,208,800\n",
      "Non-trainable params: 0\n",
      "_________________________________________________________________\n",
      "None\n"
     ]
    }
   ],
   "source": [
    "model = Sequential()\n",
    "model.add(Embedding(total_words, 100, input_length=max_sequence_len-1))\n",
    "model.add(LSTM(150))\n",
    "model.add(Dense(total_words, activation='softmax'))\n",
    "print(model.summary())"
   ]
  },
  {
   "cell_type": "markdown",
   "metadata": {},
   "source": [
    "Training"
   ]
  },
  {
   "cell_type": "code",
   "execution_count": 9,
   "metadata": {},
   "outputs": [
    {
     "name": "stderr",
     "output_type": "stream",
     "text": [
      "2024-06-24 10:31:44.874615: W tensorflow/core/framework/cpu_allocator_impl.cc:82] Allocation of 3159099200 exceeds 10% of free system memory.\n"
     ]
    },
    {
     "name": "stdout",
     "output_type": "stream",
     "text": [
      "Epoch 1/100\n",
      "3010/3010 [==============================] - 95s 31ms/step - loss: 6.2433 - accuracy: 0.0763\n",
      "Epoch 2/100\n",
      "3010/3010 [==============================] - 92s 31ms/step - loss: 5.5190 - accuracy: 0.1217\n",
      "Epoch 3/100\n",
      "3010/3010 [==============================] - 93s 31ms/step - loss: 5.1301 - accuracy: 0.1466\n",
      "Epoch 4/100\n",
      "3010/3010 [==============================] - 93s 31ms/step - loss: 4.8028 - accuracy: 0.1637\n",
      "Epoch 5/100\n",
      "3010/3010 [==============================] - 93s 31ms/step - loss: 4.4959 - accuracy: 0.1824\n",
      "Epoch 6/100\n",
      "3010/3010 [==============================] - 94s 31ms/step - loss: 4.2075 - accuracy: 0.2034\n",
      "Epoch 7/100\n",
      "3010/3010 [==============================] - 92s 31ms/step - loss: 3.9293 - accuracy: 0.2277\n",
      "Epoch 8/100\n",
      "3010/3010 [==============================] - 92s 31ms/step - loss: 3.6695 - accuracy: 0.2589\n",
      "Epoch 9/100\n",
      "3010/3010 [==============================] - 92s 30ms/step - loss: 3.4246 - accuracy: 0.2921\n",
      "Epoch 10/100\n",
      "3010/3010 [==============================] - 92s 30ms/step - loss: 3.1987 - accuracy: 0.3268\n",
      "Epoch 11/100\n",
      "3010/3010 [==============================] - 92s 31ms/step - loss: 2.9866 - accuracy: 0.3639\n",
      "Epoch 12/100\n",
      "3010/3010 [==============================] - 93s 31ms/step - loss: 2.7928 - accuracy: 0.3978\n",
      "Epoch 13/100\n",
      "3010/3010 [==============================] - 92s 31ms/step - loss: 2.6136 - accuracy: 0.4312\n",
      "Epoch 14/100\n",
      "3010/3010 [==============================] - 93s 31ms/step - loss: 2.4484 - accuracy: 0.4619\n",
      "Epoch 15/100\n",
      "3010/3010 [==============================] - 93s 31ms/step - loss: 2.2980 - accuracy: 0.4924\n",
      "Epoch 16/100\n",
      "3010/3010 [==============================] - 93s 31ms/step - loss: 2.1589 - accuracy: 0.5225\n",
      "Epoch 17/100\n",
      "3010/3010 [==============================] - 93s 31ms/step - loss: 2.0326 - accuracy: 0.5465\n",
      "Epoch 18/100\n",
      "3010/3010 [==============================] - 93s 31ms/step - loss: 1.9149 - accuracy: 0.5730\n",
      "Epoch 19/100\n",
      "3010/3010 [==============================] - 93s 31ms/step - loss: 1.8084 - accuracy: 0.5937\n",
      "Epoch 20/100\n",
      "3010/3010 [==============================] - 93s 31ms/step - loss: 1.7102 - accuracy: 0.6161\n",
      "Epoch 21/100\n",
      "3010/3010 [==============================] - 93s 31ms/step - loss: 1.6194 - accuracy: 0.6350\n",
      "Epoch 22/100\n",
      "3010/3010 [==============================] - 93s 31ms/step - loss: 1.5379 - accuracy: 0.6511\n",
      "Epoch 23/100\n",
      "3010/3010 [==============================] - 93s 31ms/step - loss: 1.4602 - accuracy: 0.6691\n",
      "Epoch 24/100\n",
      "3010/3010 [==============================] - 93s 31ms/step - loss: 1.3915 - accuracy: 0.6839\n",
      "Epoch 25/100\n",
      "3010/3010 [==============================] - 93s 31ms/step - loss: 1.3276 - accuracy: 0.6993\n",
      "Epoch 26/100\n",
      "3010/3010 [==============================] - 94s 31ms/step - loss: 1.2689 - accuracy: 0.7097\n",
      "Epoch 27/100\n",
      "3010/3010 [==============================] - 94s 31ms/step - loss: 1.2143 - accuracy: 0.7228\n",
      "Epoch 28/100\n",
      "3010/3010 [==============================] - 94s 31ms/step - loss: 1.1657 - accuracy: 0.7334\n",
      "Epoch 29/100\n",
      "3010/3010 [==============================] - 94s 31ms/step - loss: 1.1204 - accuracy: 0.7448\n",
      "Epoch 30/100\n",
      "3010/3010 [==============================] - 94s 31ms/step - loss: 1.0758 - accuracy: 0.7548\n",
      "Epoch 31/100\n",
      "3010/3010 [==============================] - 94s 31ms/step - loss: 1.0383 - accuracy: 0.7616\n",
      "Epoch 32/100\n",
      "3010/3010 [==============================] - 94s 31ms/step - loss: 1.0001 - accuracy: 0.7706\n",
      "Epoch 33/100\n",
      "3010/3010 [==============================] - 94s 31ms/step - loss: 0.9662 - accuracy: 0.7785\n",
      "Epoch 34/100\n",
      "3010/3010 [==============================] - 93s 31ms/step - loss: 0.9353 - accuracy: 0.7849\n",
      "Epoch 35/100\n",
      "3010/3010 [==============================] - 94s 31ms/step - loss: 0.9076 - accuracy: 0.7912\n",
      "Epoch 36/100\n",
      "3010/3010 [==============================] - 93s 31ms/step - loss: 0.8797 - accuracy: 0.7965\n",
      "Epoch 37/100\n",
      "3010/3010 [==============================] - 94s 31ms/step - loss: 0.8560 - accuracy: 0.8020\n",
      "Epoch 38/100\n",
      "3010/3010 [==============================] - 94s 31ms/step - loss: 0.8335 - accuracy: 0.8072\n",
      "Epoch 39/100\n",
      "3010/3010 [==============================] - 94s 31ms/step - loss: 0.8119 - accuracy: 0.8120\n",
      "Epoch 40/100\n",
      "3010/3010 [==============================] - 94s 31ms/step - loss: 0.7900 - accuracy: 0.8163\n",
      "Epoch 41/100\n",
      "3010/3010 [==============================] - 95s 31ms/step - loss: 0.7735 - accuracy: 0.8183\n",
      "Epoch 42/100\n",
      "3010/3010 [==============================] - 93s 31ms/step - loss: 0.7575 - accuracy: 0.8236\n",
      "Epoch 43/100\n",
      "3010/3010 [==============================] - 94s 31ms/step - loss: 0.7425 - accuracy: 0.8249\n",
      "Epoch 44/100\n",
      "3010/3010 [==============================] - 94s 31ms/step - loss: 0.7229 - accuracy: 0.8304\n",
      "Epoch 45/100\n",
      "3010/3010 [==============================] - 95s 31ms/step - loss: 0.7131 - accuracy: 0.8322\n",
      "Epoch 46/100\n",
      "3010/3010 [==============================] - 95s 31ms/step - loss: 0.7001 - accuracy: 0.8335\n",
      "Epoch 47/100\n",
      "3010/3010 [==============================] - 95s 32ms/step - loss: 0.6865 - accuracy: 0.8374\n",
      "Epoch 48/100\n",
      "3010/3010 [==============================] - 95s 31ms/step - loss: 0.6770 - accuracy: 0.8392\n",
      "Epoch 49/100\n",
      "3010/3010 [==============================] - 94s 31ms/step - loss: 0.6671 - accuracy: 0.8404\n",
      "Epoch 50/100\n",
      "3010/3010 [==============================] - 94s 31ms/step - loss: 0.6581 - accuracy: 0.8420\n",
      "Epoch 51/100\n",
      "3010/3010 [==============================] - 94s 31ms/step - loss: 0.6479 - accuracy: 0.8440\n",
      "Epoch 52/100\n",
      "3010/3010 [==============================] - 93s 31ms/step - loss: 0.6424 - accuracy: 0.8455\n",
      "Epoch 53/100\n",
      "3010/3010 [==============================] - 93s 31ms/step - loss: 0.6299 - accuracy: 0.8479\n",
      "Epoch 54/100\n",
      "3010/3010 [==============================] - 93s 31ms/step - loss: 0.6259 - accuracy: 0.8480\n",
      "Epoch 55/100\n",
      "3010/3010 [==============================] - 93s 31ms/step - loss: 0.6190 - accuracy: 0.8512\n",
      "Epoch 56/100\n",
      "3010/3010 [==============================] - 93s 31ms/step - loss: 0.6101 - accuracy: 0.8516\n",
      "Epoch 57/100\n",
      "3010/3010 [==============================] - 93s 31ms/step - loss: 0.6104 - accuracy: 0.8503\n",
      "Epoch 58/100\n",
      "3010/3010 [==============================] - 92s 30ms/step - loss: 0.6000 - accuracy: 0.8536\n",
      "Epoch 59/100\n",
      "3010/3010 [==============================] - 90s 30ms/step - loss: 0.5965 - accuracy: 0.8532\n",
      "Epoch 60/100\n",
      "3010/3010 [==============================] - 91s 30ms/step - loss: 0.5948 - accuracy: 0.8527\n",
      "Epoch 61/100\n",
      "3010/3010 [==============================] - 90s 30ms/step - loss: 0.5871 - accuracy: 0.8549\n",
      "Epoch 62/100\n",
      "3010/3010 [==============================] - 90s 30ms/step - loss: 0.5819 - accuracy: 0.8559\n",
      "Epoch 63/100\n",
      "3010/3010 [==============================] - 90s 30ms/step - loss: 0.5776 - accuracy: 0.8573\n",
      "Epoch 64/100\n",
      "3010/3010 [==============================] - 90s 30ms/step - loss: 0.5775 - accuracy: 0.8552\n",
      "Epoch 65/100\n",
      "3010/3010 [==============================] - 90s 30ms/step - loss: 0.5694 - accuracy: 0.8576\n",
      "Epoch 66/100\n",
      "3010/3010 [==============================] - 90s 30ms/step - loss: 0.5691 - accuracy: 0.8582\n",
      "Epoch 67/100\n",
      "3010/3010 [==============================] - 90s 30ms/step - loss: 0.5624 - accuracy: 0.8598\n",
      "Epoch 68/100\n",
      "3010/3010 [==============================] - 90s 30ms/step - loss: 0.5618 - accuracy: 0.8586\n",
      "Epoch 69/100\n",
      "3010/3010 [==============================] - 90s 30ms/step - loss: 0.5557 - accuracy: 0.8608\n",
      "Epoch 70/100\n",
      "3010/3010 [==============================] - 91s 30ms/step - loss: 0.5556 - accuracy: 0.8601\n",
      "Epoch 71/100\n",
      "3010/3010 [==============================] - 90s 30ms/step - loss: 0.5485 - accuracy: 0.8621\n",
      "Epoch 72/100\n",
      "3010/3010 [==============================] - 90s 30ms/step - loss: 0.5493 - accuracy: 0.8606\n",
      "Epoch 73/100\n",
      "3010/3010 [==============================] - 91s 30ms/step - loss: 0.5464 - accuracy: 0.8625\n",
      "Epoch 74/100\n",
      "3010/3010 [==============================] - 90s 30ms/step - loss: 0.5478 - accuracy: 0.8614\n",
      "Epoch 75/100\n",
      "3010/3010 [==============================] - 90s 30ms/step - loss: 0.5434 - accuracy: 0.8615\n",
      "Epoch 76/100\n",
      "3010/3010 [==============================] - 91s 30ms/step - loss: 0.5392 - accuracy: 0.8631\n",
      "Epoch 77/100\n",
      "3010/3010 [==============================] - 91s 30ms/step - loss: 0.5420 - accuracy: 0.8617\n",
      "Epoch 78/100\n",
      "3010/3010 [==============================] - 91s 30ms/step - loss: 0.5393 - accuracy: 0.8630\n",
      "Epoch 79/100\n",
      "3010/3010 [==============================] - 91s 30ms/step - loss: 0.5318 - accuracy: 0.8654\n",
      "Epoch 80/100\n",
      "3010/3010 [==============================] - 91s 30ms/step - loss: 0.5369 - accuracy: 0.8622\n",
      "Epoch 81/100\n",
      "3010/3010 [==============================] - 91s 30ms/step - loss: 0.5319 - accuracy: 0.8636\n",
      "Epoch 82/100\n",
      "3010/3010 [==============================] - 92s 30ms/step - loss: 0.5325 - accuracy: 0.8628\n",
      "Epoch 83/100\n",
      "3010/3010 [==============================] - 92s 30ms/step - loss: 0.5238 - accuracy: 0.8652\n",
      "Epoch 84/100\n",
      "3010/3010 [==============================] - 91s 30ms/step - loss: 0.5226 - accuracy: 0.8661\n",
      "Epoch 85/100\n",
      "3010/3010 [==============================] - 91s 30ms/step - loss: 0.5313 - accuracy: 0.8630\n",
      "Epoch 86/100\n",
      "3010/3010 [==============================] - 90s 30ms/step - loss: 0.5162 - accuracy: 0.8670\n",
      "Epoch 87/100\n",
      "3010/3010 [==============================] - 90s 30ms/step - loss: 0.5219 - accuracy: 0.8661\n",
      "Epoch 88/100\n",
      "3010/3010 [==============================] - 90s 30ms/step - loss: 0.5220 - accuracy: 0.8656\n",
      "Epoch 89/100\n",
      "3010/3010 [==============================] - 91s 30ms/step - loss: 0.5166 - accuracy: 0.8662\n",
      "Epoch 90/100\n",
      "3010/3010 [==============================] - 92s 30ms/step - loss: 0.5233 - accuracy: 0.8639\n",
      "Epoch 91/100\n",
      "3010/3010 [==============================] - 92s 30ms/step - loss: 0.5139 - accuracy: 0.8663\n",
      "Epoch 92/100\n",
      "3010/3010 [==============================] - 92s 31ms/step - loss: 0.5218 - accuracy: 0.8640\n",
      "Epoch 93/100\n",
      "3010/3010 [==============================] - 92s 30ms/step - loss: 0.5220 - accuracy: 0.8641\n",
      "Epoch 94/100\n",
      "3010/3010 [==============================] - 91s 30ms/step - loss: 0.5135 - accuracy: 0.8655\n",
      "Epoch 95/100\n",
      "3010/3010 [==============================] - 92s 31ms/step - loss: 0.5194 - accuracy: 0.8638\n",
      "Epoch 96/100\n",
      "3010/3010 [==============================] - 91s 30ms/step - loss: 0.5162 - accuracy: 0.8640\n",
      "Epoch 97/100\n",
      "3010/3010 [==============================] - 92s 31ms/step - loss: 0.5118 - accuracy: 0.8656\n",
      "Epoch 98/100\n",
      "3010/3010 [==============================] - 94s 31ms/step - loss: 0.5126 - accuracy: 0.8657\n",
      "Epoch 99/100\n",
      "3010/3010 [==============================] - 93s 31ms/step - loss: 0.5160 - accuracy: 0.8648\n",
      "Epoch 100/100\n",
      "3010/3010 [==============================] - 92s 31ms/step - loss: 0.5119 - accuracy: 0.8657\n"
     ]
    },
    {
     "data": {
      "text/plain": [
       "<keras.callbacks.History at 0x7fbd05edda80>"
      ]
     },
     "execution_count": 9,
     "metadata": {},
     "output_type": "execute_result"
    }
   ],
   "source": [
    "model.compile(loss='categorical_crossentropy', optimizer='adam', metrics=['accuracy'])\n",
    "model.fit(X, y, epochs=100, verbose=1)"
   ]
  },
  {
   "cell_type": "markdown",
   "metadata": {},
   "source": [
    "Generate our predicitons"
   ]
  },
  {
   "cell_type": "code",
   "execution_count": 11,
   "metadata": {},
   "outputs": [
    {
     "name": "stdout",
     "output_type": "stream",
     "text": [
      "1/1 [==============================] - 0s 24ms/step\n",
      "1/1 [==============================] - 0s 23ms/step\n",
      "1/1 [==============================] - 0s 31ms/step\n",
      "I will leave if they should be in\n"
     ]
    }
   ],
   "source": [
    "seed_text = \"I will leave if they\"\n",
    "next_words = 3\n",
    "\n",
    "for _ in range(next_words):\n",
    "    token_list = tokenizer.texts_to_sequences([seed_text])[0]\n",
    "    token_list = pad_sequences([token_list], maxlen=max_sequence_len-1, padding='pre')\n",
    "    predicted = np.argmax(model.predict(token_list), axis=-1)\n",
    "    output_word = \"\"\n",
    "    for word, index in tokenizer.word_index.items():\n",
    "        if index == predicted:\n",
    "            output_word = word\n",
    "            break\n",
    "    seed_text += \" \" + output_word\n",
    "\n",
    "print(seed_text)"
   ]
  }
 ],
 "metadata": {
  "language_info": {
   "name": "python"
  }
 },
 "nbformat": 4,
 "nbformat_minor": 2
}
